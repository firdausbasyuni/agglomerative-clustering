{
  "nbformat": 4,
  "nbformat_minor": 0,
  "metadata": {
    "colab": {
      "name": "tugas damin agglomerative clustering.ipynb",
      "provenance": []
    },
    "kernelspec": {
      "name": "python3",
      "display_name": "Python 3"
    }
  },
  "cells": [
    {
      "cell_type": "code",
      "metadata": {
        "id": "nmpWKCetGB4e",
        "colab_type": "code",
        "colab": {}
      },
      "source": [
        "import numpy as np\n",
        "import matplotlib.pyplot as plt\n",
        "import pandas as pd"
      ],
      "execution_count": 0,
      "outputs": []
    },
    {
      "cell_type": "code",
      "metadata": {
        "id": "uPAsARuCGG5c",
        "colab_type": "code",
        "colab": {
          "base_uri": "https://localhost:8080/",
          "height": 340
        },
        "outputId": "530937c5-b8c1-47cc-ea39-464fe8fd6182"
      },
      "source": [
        "df = pd.DataFrame({\n",
        "    'x': [43, 11, 21, 5, 32, 96, 34, 58, 34, 36, 92, 29, 66, 63, 30, 23, 94, 21, 37],\n",
        "    'y': [84, 21, 15, 2, 6, 33, 54, 90, 60, 64, 39, 96, 17, 23, 11, 49, 62, 12, 32]\n",
        "})\n",
        "\n",
        "dataset=df.to_numpy()\n",
        "print(dataset)"
      ],
      "execution_count": 182,
      "outputs": [
        {
          "output_type": "stream",
          "text": [
            "[[43 84]\n",
            " [11 21]\n",
            " [21 15]\n",
            " [ 5  2]\n",
            " [32  6]\n",
            " [96 33]\n",
            " [34 54]\n",
            " [58 90]\n",
            " [34 60]\n",
            " [36 64]\n",
            " [92 39]\n",
            " [29 96]\n",
            " [66 17]\n",
            " [63 23]\n",
            " [30 11]\n",
            " [23 49]\n",
            " [94 62]\n",
            " [21 12]\n",
            " [37 32]]\n"
          ],
          "name": "stdout"
        }
      ]
    },
    {
      "cell_type": "code",
      "metadata": {
        "id": "LJHUacW0GIkr",
        "colab_type": "code",
        "colab": {}
      },
      "source": [
        "points = dataset"
      ],
      "execution_count": 0,
      "outputs": []
    },
    {
      "cell_type": "code",
      "metadata": {
        "id": "asvttOsCGJt6",
        "colab_type": "code",
        "colab": {}
      },
      "source": [
        "import scipy.cluster.hierarchy as sch\n",
        "from sklearn.cluster import AgglomerativeClustering"
      ],
      "execution_count": 0,
      "outputs": []
    },
    {
      "cell_type": "code",
      "metadata": {
        "id": "SIwW3fKAGL7I",
        "colab_type": "code",
        "colab": {
          "base_uri": "https://localhost:8080/",
          "height": 268
        },
        "outputId": "2a3833b1-6bb7-4905-fa07-346a4dc9a7bf"
      },
      "source": [
        "dendrogram = sch.dendrogram(sch.linkage(points, method='ward'))"
      ],
      "execution_count": 185,
      "outputs": [
        {
          "output_type": "display_data",
          "data": {
            "image/png": "[encoded data removed]",
            "text/plain": [
              "<Figure size 432x288 with 1 Axes>"
            ]
          },
          "metadata": {
            "tags": []
          }
        }
      ]
    },
    {
      "cell_type": "code",
      "metadata": {
        "id": "3wBG2DaQGNL1",
        "colab_type": "code",
        "colab": {
          "base_uri": "https://localhost:8080/",
          "height": 299
        },
        "outputId": "4ff52816-3b51-41b6-abe9-d837e9e44bb9"
      },
      "source": [
        "df.plot.scatter(x='x', y='y')"
      ],
      "execution_count": 186,
      "outputs": [
        {
          "output_type": "execute_result",
          "data": {
            "text/plain": [
              "<matplotlib.axes._subplots.AxesSubplot at 0x7f0be6fca4e0>"
            ]
          },
          "metadata": {
            "tags": []
          },
          "execution_count": 186
        },
        {
          "output_type": "display_data",
          "data": {
            "image/png": "[encoded data removed]",
            "text/plain": [
              "<Figure size 432x288 with 1 Axes>"
            ]
          },
          "metadata": {
            "tags": []
          }
        }
      ]
    },
    {
      "cell_type": "code",
      "metadata": {
        "id": "i1j7elRQGOoL",
        "colab_type": "code",
        "colab": {}
      },
      "source": [
        "hc = AgglomerativeClustering(n_clusters=4, affinity='euclidean', linkage='ward')"
      ],
      "execution_count": 0,
      "outputs": []
    },
    {
      "cell_type": "code",
      "metadata": {
        "id": "Sf_5a5_RGQMm",
        "colab_type": "code",
        "colab": {}
      },
      "source": [
        "y_hc = hc.fit_predict(points)"
      ],
      "execution_count": 0,
      "outputs": []
    },
    {
      "cell_type": "code",
      "metadata": {
        "id": "2fmj5RUvGRVa",
        "colab_type": "code",
        "colab": {
          "base_uri": "https://localhost:8080/",
          "height": 85
        },
        "outputId": "b9f381e7-8509-4ab6-a49a-148f0e137869"
      },
      "source": [
        "print(np.where(y_hc == 0))\n",
        "print(np.where(y_hc == 1))\n",
        "print(np.where(y_hc == 2))\n",
        "print(np.where(y_hc == 3))"
      ],
      "execution_count": 189,
      "outputs": [
        {
          "output_type": "stream",
          "text": [
            "(array([ 5, 10, 12, 13, 16]),)\n",
            "(array([ 1,  2,  3,  4, 14, 17]),)\n",
            "(array([ 6,  8,  9, 15, 18]),)\n",
            "(array([ 0,  7, 11]),)\n"
          ],
          "name": "stdout"
        }
      ]
    },
    {
      "cell_type": "code",
      "metadata": {
        "id": "skp6G98bZMHx",
        "colab_type": "code",
        "colab": {
          "base_uri": "https://localhost:8080/",
          "height": 285
        },
        "outputId": "6c679dba-de49-4cd6-d985-cfecb96e5796"
      },
      "source": [
        "plt.scatter(points[y_hc==0,0], points[y_hc==0,1], s=100, c='cyan')\n",
        "plt.scatter(points[y_hc==1,0], points[y_hc==1,1], s=100, c='red')\n",
        "plt.scatter(points[y_hc==2,0], points[y_hc==2,1], s=100, c='green')\n",
        "plt.scatter(points[y_hc==3,0], points[y_hc==3,1], s=100, c='blue')"
      ],
      "execution_count": 190,
      "outputs": [
        {
          "output_type": "execute_result",
          "data": {
            "text/plain": [
              "<matplotlib.collections.PathCollection at 0x7f0be640bbe0>"
            ]
          },
          "metadata": {
            "tags": []
          },
          "execution_count": 190
        },
        {
          "output_type": "display_data",
          "data": {
            "image/png": "[encoded data removed]",
            "text/plain": [
              "<Figure size 432x288 with 1 Axes>"
            ]
          },
          "metadata": {
            "tags": []
          }
        }
      ]
    }
  ]
}